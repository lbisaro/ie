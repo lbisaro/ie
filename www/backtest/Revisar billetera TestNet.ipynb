{
 "cells": [
  {
   "cell_type": "code",
   "execution_count": 3,
   "metadata": {},
   "outputs": [
    {
     "name": "stdout",
     "output_type": "stream",
     "text": [
      "C:\\Users\\lbisa\\Mi unidad (leonardo.bisaro@gmail.com)\\Cripto\\python\\InvestingEvolution\\ie\\www\n",
      "C:\\Users\\lbisa\\Mi unidad (leonardo.bisaro@gmail.com)\\Cripto\\python\\InvestingEvolution\\ie\\www\n"
     ]
    }
   ],
   "source": [
    "import pandas as pd\n",
    "import pandas_ta as pta\n",
    "import numpy as np\n",
    "import os\n",
    "import pickle\n",
    "\n",
    "from config import BASE_DIR\n",
    "print(os.getcwd())\n",
    "os.chdir(BASE_DIR)\n",
    "print(os.getcwd())\n",
    "\n",
    "from binance.client import Client as BinanceClient\n",
    "import local__config as local"
   ]
  },
  {
   "cell_type": "code",
   "execution_count": 4,
   "metadata": {},
   "outputs": [],
   "source": [
    "#Conexion con Binance sin API-KEY\n",
    "client = BinanceClient(api_key=local.LOC_BNC_AK, api_secret=local.LOC_BNC_SK, testnet=local.LOC_BNC_TESNET)"
   ]
  },
  {
   "cell_type": "code",
   "execution_count": 18,
   "metadata": {},
   "outputs": [
    {
     "name": "stdout",
     "output_type": "stream",
     "text": [
      "USDT Free:  9780.0748532\n",
      "BTC Free:  1.0  In USDT:  51589.56\n",
      "ETH Free:  1.0  In USDT:  2996.73\n",
      "BNB Free:  1.0  In USDT:  382.7\n"
     ]
    }
   ],
   "source": [
    "prices = {}\n",
    "exch_prices = client.get_all_tickers()\n",
    "for item in exch_prices:\n",
    "    prices[item['symbol']] = float(item['price'])\n",
    "\n",
    "wallet = client.get_account()\n",
    "for item in wallet['balances']:\n",
    "    wallet[item['asset']] = {'free':float(item['free']),\n",
    "                                'locked':float(item['locked']),\n",
    "                            }\n",
    "\n",
    "assets = ['USDT','BTC','ETH','BNB']\n",
    "for asset in assets:\n",
    "    if asset == 'USDT':\n",
    "        print(asset,'Free: ',float(wallet[asset]['free']))\n",
    "    else:\n",
    "        print(asset,'Free: ',float(wallet[asset]['free']),' In USDT: ',wallet[asset]['free']*prices[asset+'USDT'])\n",
    "\n",
    "\n"
   ]
  },
  {
   "cell_type": "code",
   "execution_count": 17,
   "metadata": {},
   "outputs": [
    {
     "data": {
      "text/plain": [
       "{'symbol': 'BTCUSDT',\n",
       " 'orderId': 6796473,\n",
       " 'orderListId': -1,\n",
       " 'clientOrderId': 'khOd5JhAi8CDxAYsRGpxXX',\n",
       " 'transactTime': 1708798763974,\n",
       " 'price': '0.00000000',\n",
       " 'origQty': '0.11006000',\n",
       " 'executedQty': '0.11006000',\n",
       " 'cummulativeQuoteQty': '5678.58421920',\n",
       " 'status': 'FILLED',\n",
       " 'timeInForce': 'GTC',\n",
       " 'type': 'MARKET',\n",
       " 'side': 'SELL',\n",
       " 'workingTime': 1708798763974,\n",
       " 'fills': [{'price': '51599.22000000',\n",
       "   'qty': '0.00931000',\n",
       "   'commission': '0.00000000',\n",
       "   'commissionAsset': 'USDT',\n",
       "   'tradeId': 1334777},\n",
       "  {'price': '51599.21000000',\n",
       "   'qty': '0.00863000',\n",
       "   'commission': '0.00000000',\n",
       "   'commissionAsset': 'USDT',\n",
       "   'tradeId': 1334778},\n",
       "  {'price': '51599.17000000',\n",
       "   'qty': '0.00504000',\n",
       "   'commission': '0.00000000',\n",
       "   'commissionAsset': 'USDT',\n",
       "   'tradeId': 1334779},\n",
       "  {'price': '51598.00000000',\n",
       "   'qty': '0.00718000',\n",
       "   'commission': '0.00000000',\n",
       "   'commissionAsset': 'USDT',\n",
       "   'tradeId': 1334780},\n",
       "  {'price': '51597.58000000',\n",
       "   'qty': '0.00902000',\n",
       "   'commission': '0.00000000',\n",
       "   'commissionAsset': 'USDT',\n",
       "   'tradeId': 1334781},\n",
       "  {'price': '51596.82000000',\n",
       "   'qty': '0.00718000',\n",
       "   'commission': '0.00000000',\n",
       "   'commissionAsset': 'USDT',\n",
       "   'tradeId': 1334782},\n",
       "  {'price': '51596.05000000',\n",
       "   'qty': '0.00844000',\n",
       "   'commission': '0.00000000',\n",
       "   'commissionAsset': 'USDT',\n",
       "   'tradeId': 1334783},\n",
       "  {'price': '51595.61000000',\n",
       "   'qty': '0.00853000',\n",
       "   'commission': '0.00000000',\n",
       "   'commissionAsset': 'USDT',\n",
       "   'tradeId': 1334784},\n",
       "  {'price': '51593.38000000',\n",
       "   'qty': '0.00921000',\n",
       "   'commission': '0.00000000',\n",
       "   'commissionAsset': 'USDT',\n",
       "   'tradeId': 1334785},\n",
       "  {'price': '51593.19000000',\n",
       "   'qty': '0.00524000',\n",
       "   'commission': '0.00000000',\n",
       "   'commissionAsset': 'USDT',\n",
       "   'tradeId': 1334786},\n",
       "  {'price': '51592.10000000',\n",
       "   'qty': '0.00572000',\n",
       "   'commission': '0.00000000',\n",
       "   'commissionAsset': 'USDT',\n",
       "   'tradeId': 1334787},\n",
       "  {'price': '51591.94000000',\n",
       "   'qty': '0.00844000',\n",
       "   'commission': '0.00000000',\n",
       "   'commissionAsset': 'USDT',\n",
       "   'tradeId': 1334788},\n",
       "  {'price': '51591.59000000',\n",
       "   'qty': '0.00970000',\n",
       "   'commission': '0.00000000',\n",
       "   'commissionAsset': 'USDT',\n",
       "   'tradeId': 1334789},\n",
       "  {'price': '51591.44000000',\n",
       "   'qty': '0.00776000',\n",
       "   'commission': '0.00000000',\n",
       "   'commissionAsset': 'USDT',\n",
       "   'tradeId': 1334790},\n",
       "  {'price': '51591.15000000',\n",
       "   'qty': '0.00066000',\n",
       "   'commission': '0.00000000',\n",
       "   'commissionAsset': 'USDT',\n",
       "   'tradeId': 1334791}],\n",
       " 'selfTradePreventionMode': 'EXPIRE_MAKER'}"
      ]
     },
     "execution_count": 17,
     "metadata": {},
     "output_type": "execute_result"
    }
   ],
   "source": [
    "#client.order_market_sell(symbol='BTCUSDT', quantity=0.11006)\n",
    "#client.order_market_buy(symbol='BTCUSDT', quantity=0.11006)"
   ]
  }
 ],
 "metadata": {
  "kernelspec": {
   "display_name": "Python 3",
   "language": "python",
   "name": "python3"
  },
  "language_info": {
   "codemirror_mode": {
    "name": "ipython",
    "version": 3
   },
   "file_extension": ".py",
   "mimetype": "text/x-python",
   "name": "python",
   "nbconvert_exporter": "python",
   "pygments_lexer": "ipython3",
   "version": "3.8.0"
  }
 },
 "nbformat": 4,
 "nbformat_minor": 2
}

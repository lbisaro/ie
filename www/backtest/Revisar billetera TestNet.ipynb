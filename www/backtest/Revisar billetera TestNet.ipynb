{
 "cells": [
  {
   "cell_type": "code",
   "execution_count": 1,
   "metadata": {},
   "outputs": [
    {
     "name": "stdout",
     "output_type": "stream",
     "text": [
      "c:\\Users\\lbisa\\Mi unidad (leonardo.bisaro@gmail.com)\\Cripto\\python\\InvestingEvolution\\ie\\www\\backtest\n",
      "C:\\Users\\lbisa\\Mi unidad (leonardo.bisaro@gmail.com)\\Cripto\\python\\InvestingEvolution\\ie\\www\n"
     ]
    }
   ],
   "source": [
    "import pandas as pd\n",
    "import pandas_ta as pta\n",
    "import numpy as np\n",
    "import os\n",
    "import pickle\n",
    "\n",
    "from config import BASE_DIR\n",
    "print(os.getcwd())\n",
    "os.chdir(BASE_DIR)\n",
    "print(os.getcwd())\n",
    "\n",
    "from binance.client import Client as BinanceClient\n",
    "import local__config as local"
   ]
  },
  {
   "cell_type": "code",
   "execution_count": 2,
   "metadata": {},
   "outputs": [],
   "source": [
    "#Conexion con Binance sin API-KEY\n",
    "client = BinanceClient(api_key=local.LOC_BNC_AK, api_secret=local.LOC_BNC_SK, testnet=local.LOC_BNC_TESNET)"
   ]
  },
  {
   "cell_type": "code",
   "execution_count": 3,
   "metadata": {},
   "outputs": [
    {
     "name": "stdout",
     "output_type": "stream",
     "text": [
      "USDT Free:  6333.2884776\n",
      "BTC Free:  1.03883  In USDT:  53862.28628169999\n",
      "ETH Free:  1.4759  In USDT:  4580.130952\n",
      "BNB Free:  1.0  In USDT:  390.4\n"
     ]
    }
   ],
   "source": [
    "prices = {}\n",
    "exch_prices = client.get_all_tickers()\n",
    "for item in exch_prices:\n",
    "    prices[item['symbol']] = float(item['price'])\n",
    "\n",
    "wallet = client.get_account()\n",
    "for item in wallet['balances']:\n",
    "    wallet[item['asset']] = {'free':float(item['free']),\n",
    "                                'locked':float(item['locked']),\n",
    "                            }\n",
    "\n",
    "assets = ['USDT','BTC','ETH','BNB']\n",
    "for asset in assets:\n",
    "    if asset == 'USDT':\n",
    "        print(asset,'Free: ',float(wallet[asset]['free']))\n",
    "    else:\n",
    "        print(asset,'Free: ',float(wallet[asset]['free']),' In USDT: ',wallet[asset]['free']*prices[asset+'USDT'])\n",
    "\n",
    "\n"
   ]
  },
  {
   "cell_type": "code",
   "execution_count": 4,
   "metadata": {},
   "outputs": [
    {
     "name": "stdout",
     "output_type": "stream",
     "text": [
      "weightedAvgPrice 3043.35929319\n",
      "bidPrice 3103.31000000\n",
      "askPrice 3103.32000000\n",
      "gap: %  0.00032223657966401476\n"
     ]
    }
   ],
   "source": [
    "ticker = client.get_ticker(symbol='ETHUSDT')\n",
    "print('weightedAvgPrice',ticker['weightedAvgPrice'])\n",
    "print('bidPrice',ticker['bidPrice'])\n",
    "print('askPrice',ticker['askPrice'])\n",
    "gap = ((float(ticker['askPrice'])/float(ticker['bidPrice']))-1)*100\n",
    "print('gap: % ',gap)\n"
   ]
  },
  {
   "cell_type": "code",
   "execution_count": 5,
   "metadata": {},
   "outputs": [
    {
     "name": "stdout",
     "output_type": "stream",
     "text": [
      "sell_price:  3103.2099999999996\n",
      "buy_price:  3103.34\n"
     ]
    }
   ],
   "source": [
    "sell_order = client.order_market_sell(symbol='ETHUSDT', quantity=0.002)\n",
    "sell_price = float(sell_order['cummulativeQuoteQty'])/float(sell_order['executedQty'])\n",
    "print('sell_price: ',sell_price)\n",
    "buy_order = client.order_market_buy(symbol='ETHUSDT', quantity=0.002)\n",
    "buy_price = float(buy_order['cummulativeQuoteQty'])/float(buy_order['executedQty'])\n",
    "print('buy_price: ',buy_price)\n",
    "\n"
   ]
  },
  {
   "cell_type": "code",
   "execution_count": 6,
   "metadata": {},
   "outputs": [
    {
     "name": "stdout",
     "output_type": "stream",
     "text": [
      "gap: %  0.004189210527183462\n"
     ]
    }
   ],
   "source": [
    "gap = ((buy_price/sell_price)-1)*100\n",
    "print('gap: % ',gap)"
   ]
  }
 ],
 "metadata": {
  "kernelspec": {
   "display_name": "Python 3",
   "language": "python",
   "name": "python3"
  },
  "language_info": {
   "codemirror_mode": {
    "name": "ipython",
    "version": 3
   },
   "file_extension": ".py",
   "mimetype": "text/x-python",
   "name": "python",
   "nbconvert_exporter": "python",
   "pygments_lexer": "ipython3",
   "version": "3.8.0"
  }
 },
 "nbformat": 4,
 "nbformat_minor": 2
}

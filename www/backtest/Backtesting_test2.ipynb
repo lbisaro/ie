{
 "cells": [
  {
   "cell_type": "code",
   "execution_count": 371,
   "metadata": {},
   "outputs": [
    {
     "name": "stdout",
     "output_type": "stream",
     "text": [
      "C:\\Users\\lbisa\\Dropbox\\Cripto\\python\\InvestingEvolution\\ie\\www\n"
     ]
    }
   ],
   "source": [
    "import pandas as pd\n",
    "import numpy as np\n",
    "import os\n",
    "import pickle\n",
    "\n",
    "from config import BASE_DIR\n",
    "print(os.getcwd())\n",
    "os.chdir(BASE_DIR)\n",
    "from scripts.backtesting.backtesting import Strategy, Backtest \n",
    "from scripts.backtesting.lib import resample_apply, plot_heatmaps\n",
    "from ta.trend import EMAIndicator\n",
    "import scripts.functions as fn \n"
   ]
  },
  {
   "cell_type": "code",
   "execution_count": 372,
   "metadata": {},
   "outputs": [],
   "source": [
    "#klines_file = './backtest/klines/2d01/Completo_BTCUSDT_2d01_2021-01-01_2023-07-31.DataFrame'\n",
    "#klines_file = './backtest/klines/0m15/Completo_XRPUSDT_0m15_2021-01-01_2023-07-31.DataFrame'\n",
    "#klines_file  = './backtest/klines/0m01/Completo_BTCUSDT_0m01_2021-01-01_2023-07-31.DataFrame'\n",
    "#klines_file = './backtest/klines/0m01/Lateral_BTCUSDT_0m01_2023-06-20_2023-10-09.DataFrame'\n",
    "\n",
    "#klines_file  = './backtest/klines/1h01/Completo_BTCUSDT_1h01_2021-01-01_2023-07-31.DataFrame'\n",
    "#klines_file  = './backtest/klines/1h01/Alcista_BTCUSDT_1h01_2020-09-07_2021-05-03.DataFrame'\n",
    "#klines_file = './backtest/klines/1h01/Lateral_BTCUSDT_1h01_2023-06-20_2023-10-09.DataFrame'\n",
    "klines_file = './backtest/klines/1h01/Bajista_BTCUSDT_1h01_2021-04-12_2021-07-12.DataFrame'\n",
    "\n",
    "#klines_file  = './backtest/klines/1h04/Completo_BTCUSDT_1h04_2021-01-01_2023-07-31.DataFrame'\n",
    "\n",
    "with open(klines_file, 'rb') as file:\n",
    "    data = pickle.load(file)\n",
    "data.set_index('datetime',inplace=True)\n",
    "data.rename(columns={'open': 'Open', 'high': 'High', 'low': 'Low', 'close': 'Close', 'volume': 'Volume'}, inplace=True)\n",
    "#data['sma'] = data['Close'].rolling(21).mean()\n",
    "\n",
    "start_date = klines_file.split('/')[4].split('_')[3] #Extrae la fecha de inicio\n",
    "start_date = pd.to_datetime(start_date, format='%Y-%m-%d')\n",
    "start_date = start_date.replace(hour=0, minute=0, second=0)\n",
    "data = data[data.index >= start_date]\n",
    "\n",
    "\n"
   ]
  },
  {
   "cell_type": "code",
   "execution_count": 373,
   "metadata": {},
   "outputs": [],
   "source": [
    "def SMA(values, n):\n",
    "    \"\"\"\n",
    "    Return simple moving average of `values`, at\n",
    "    each step taking into account `n` previous values.\n",
    "    \"\"\"\n",
    "    return pd.Series(values).rolling(n).mean()\n",
    "\n",
    "   \n",
    "\n"
   ]
  },
  {
   "cell_type": "code",
   "execution_count": 374,
   "metadata": {},
   "outputs": [],
   "source": [
    "\n",
    "\n",
    "class SmaCross(Strategy):\n",
    "    \n",
    "    # for later optimization\n",
    "    ma = 14         #Periodos para Media movil simple \n",
    "    quote_perc = 90 #% de compra inicial, para stock\n",
    "    re_buy_perc = 4 #% para recompra luego de una venta\n",
    "    lot_to_safe = 5 #% a resguardar si supera start_cash\n",
    "\n",
    "\n",
    "    #Resultados de la optimizacion\n",
    "    #Bajista   ma=14,quote_perc=90,re_buy_perc=4,lot_to_safe=10\n",
    "    #Lateral   ma=14,quote_perc=90,re_buy_perc=10,lot_to_safe=6\n",
    "    #Alcista   ma=28,quote_perc=90,re_buy_perc=2,lot_to_safe=10\n",
    "    #Completo  ma=14,quote_perc=90,re_buy_perc=4,lot_to_safe=2\n",
    "\n",
    "    \"\"\"\n",
    "    General   ma=14,quote_perc=90,re_buy_perc=4,lot_to_safe=5\n",
    "    Completo:   Return (Ann.) [%] 15.00  - Max. Drawdown [%] -41.24\n",
    "    Alcista:    Return (Ann.) [%] 364.21 - Max. Drawdown [%] -11.70\n",
    "    Lateral:    Return (Ann.) [%] -12.59 - Max. Drawdown [%] -14.62\n",
    "    Bajista:    Return (Ann.) [%] -27.55 - Max. Drawdown [%] -21.91\n",
    "    \"\"\"\n",
    "\n",
    "\n",
    "    op_last_price = 0\n",
    "    \n",
    "    start_cash = 0.0  #Cash correspondiente a la compra inicial\n",
    "    pre_start = False #Controla que en la primera vela se compren la sunidades para stock \n",
    "\n",
    "    def init(self):\n",
    "        super().init()\n",
    "        self.sma = self.I(SMA, self.data.Close, self.ma)\n",
    "        \n",
    "        \n",
    "\n",
    "       \n",
    "        \n",
    "    def next(self):\n",
    "        \n",
    "        price = self._broker.last_price\n",
    "        avg_price = (self.data.High[-1]+self.data.Low[-1])/2\n",
    "\n",
    "        #Compra inicial para estockearse de Monedas\n",
    "        if not self.pre_start:\n",
    "            size = (self._broker._cash * (self.quote_perc/100)) / price\n",
    "            self.buy(size=size)\n",
    "            self.start_cash = price*size\n",
    "            self.pre_start = True \n",
    "\n",
    "        #Estrategia\n",
    "        else:\n",
    "            hold = self._broker.position.size*price\n",
    "\n",
    "            if avg_price > self.sma[-1] and hold > self.start_cash*(1+(self.lot_to_safe/100)):\n",
    "                size = (hold - self.start_cash)/price\n",
    "                limit_price = price*(1-(self.re_buy_perc/100))\n",
    "                if size*price > 12 and size*limit_price: #Intenta recomprar solo si la compra es por las de 12 dolares\n",
    "                    self.sell(size=size)\n",
    "                    self.buy(size=size,limit=limit_price)\n",
    "\n",
    "            elif avg_price < self.sma[-1] and hold < self.start_cash*(1-(self.lot_to_safe/100)):\n",
    "                size = self._broker.position.size*(self.lot_to_safe/100)\n",
    "                limit_price = price*(1-(self.re_buy_perc/100))\n",
    "                if size*price > 12 and size*limit_price: #Intenta recomprar solo si la compra es por las de 12 dolares\n",
    "                    self.op_last_price = avg_price\n",
    "                    self.sell(size=size)\n",
    "                    self.buy(size=size,limit=limit_price)\n",
    "\n",
    "            \n",
    "\n"
   ]
  },
  {
   "cell_type": "code",
   "execution_count": 375,
   "metadata": {},
   "outputs": [
    {
     "name": "stdout",
     "output_type": "stream",
     "text": [
      "Periodo: 2021-04-12 00:00:00 al 2021-07-12 23:00:00\n",
      "Duracion: 91 days 23:00:00\n",
      "Return (Ann.) [%] -27.555632744731074\n",
      "Max. Drawdown [%] -21.918652030047035\n",
      "# Trades 902\n"
     ]
    },
    {
     "data": {
      "text/html": [
       "<div style=\"display: table;\"><div style=\"display: table-row;\"><div style=\"display: table-cell;\"><b title=\"bokeh.models.plots.GridPlot\">GridPlot</b>(</div><div style=\"display: table-cell;\">id&nbsp;=&nbsp;'p50577', <span id=\"p50990\" style=\"cursor: pointer;\">&hellip;)</span></div></div><div class=\"p50989\" style=\"display: none;\"><div style=\"display: table-cell;\"></div><div style=\"display: table-cell;\">align&nbsp;=&nbsp;'auto',</div></div><div class=\"p50989\" style=\"display: none;\"><div style=\"display: table-cell;\"></div><div style=\"display: table-cell;\">aspect_ratio&nbsp;=&nbsp;None,</div></div><div class=\"p50989\" style=\"display: none;\"><div style=\"display: table-cell;\"></div><div style=\"display: table-cell;\">children&nbsp;=&nbsp;[(figure(id='p50201', ...), 0, 0), (figure(id='p50282', ...), 1, 0), (figure(id='p50142', ...), 2, 0), (figure(id='p50354', ...), 3, 0)],</div></div><div class=\"p50989\" style=\"display: none;\"><div style=\"display: table-cell;\"></div><div style=\"display: table-cell;\">cols&nbsp;=&nbsp;None,</div></div><div class=\"p50989\" style=\"display: none;\"><div style=\"display: table-cell;\"></div><div style=\"display: table-cell;\">context_menu&nbsp;=&nbsp;None,</div></div><div class=\"p50989\" style=\"display: none;\"><div style=\"display: table-cell;\"></div><div style=\"display: table-cell;\">css_classes&nbsp;=&nbsp;[],</div></div><div class=\"p50989\" style=\"display: none;\"><div style=\"display: table-cell;\"></div><div style=\"display: table-cell;\">disabled&nbsp;=&nbsp;False,</div></div><div class=\"p50989\" style=\"display: none;\"><div style=\"display: table-cell;\"></div><div style=\"display: table-cell;\">flow_mode&nbsp;=&nbsp;'block',</div></div><div class=\"p50989\" style=\"display: none;\"><div style=\"display: table-cell;\"></div><div style=\"display: table-cell;\">height&nbsp;=&nbsp;None,</div></div><div class=\"p50989\" style=\"display: none;\"><div style=\"display: table-cell;\"></div><div style=\"display: table-cell;\">height_policy&nbsp;=&nbsp;'auto',</div></div><div class=\"p50989\" style=\"display: none;\"><div style=\"display: table-cell;\"></div><div style=\"display: table-cell;\">js_event_callbacks&nbsp;=&nbsp;{},</div></div><div class=\"p50989\" style=\"display: none;\"><div style=\"display: table-cell;\"></div><div style=\"display: table-cell;\">js_property_callbacks&nbsp;=&nbsp;{},</div></div><div class=\"p50989\" style=\"display: none;\"><div style=\"display: table-cell;\"></div><div style=\"display: table-cell;\">margin&nbsp;=&nbsp;None,</div></div><div class=\"p50989\" style=\"display: none;\"><div style=\"display: table-cell;\"></div><div style=\"display: table-cell;\">max_height&nbsp;=&nbsp;None,</div></div><div class=\"p50989\" style=\"display: none;\"><div style=\"display: table-cell;\"></div><div style=\"display: table-cell;\">max_width&nbsp;=&nbsp;None,</div></div><div class=\"p50989\" style=\"display: none;\"><div style=\"display: table-cell;\"></div><div style=\"display: table-cell;\">min_height&nbsp;=&nbsp;None,</div></div><div class=\"p50989\" style=\"display: none;\"><div style=\"display: table-cell;\"></div><div style=\"display: table-cell;\">min_width&nbsp;=&nbsp;None,</div></div><div class=\"p50989\" style=\"display: none;\"><div style=\"display: table-cell;\"></div><div style=\"display: table-cell;\">name&nbsp;=&nbsp;None,</div></div><div class=\"p50989\" style=\"display: none;\"><div style=\"display: table-cell;\"></div><div style=\"display: table-cell;\">resizable&nbsp;=&nbsp;False,</div></div><div class=\"p50989\" style=\"display: none;\"><div style=\"display: table-cell;\"></div><div style=\"display: table-cell;\">rows&nbsp;=&nbsp;None,</div></div><div class=\"p50989\" style=\"display: none;\"><div style=\"display: table-cell;\"></div><div style=\"display: table-cell;\">sizing_mode&nbsp;=&nbsp;'stretch_width',</div></div><div class=\"p50989\" style=\"display: none;\"><div style=\"display: table-cell;\"></div><div style=\"display: table-cell;\">spacing&nbsp;=&nbsp;0,</div></div><div class=\"p50989\" style=\"display: none;\"><div style=\"display: table-cell;\"></div><div style=\"display: table-cell;\">styles&nbsp;=&nbsp;{},</div></div><div class=\"p50989\" style=\"display: none;\"><div style=\"display: table-cell;\"></div><div style=\"display: table-cell;\">stylesheets&nbsp;=&nbsp;[],</div></div><div class=\"p50989\" style=\"display: none;\"><div style=\"display: table-cell;\"></div><div style=\"display: table-cell;\">subscribed_events&nbsp;=&nbsp;PropertyValueSet(),</div></div><div class=\"p50989\" style=\"display: none;\"><div style=\"display: table-cell;\"></div><div style=\"display: table-cell;\">syncable&nbsp;=&nbsp;True,</div></div><div class=\"p50989\" style=\"display: none;\"><div style=\"display: table-cell;\"></div><div style=\"display: table-cell;\">tags&nbsp;=&nbsp;[],</div></div><div class=\"p50989\" style=\"display: none;\"><div style=\"display: table-cell;\"></div><div style=\"display: table-cell;\">toolbar&nbsp;=&nbsp;Toolbar(id='p50576', ...),</div></div><div class=\"p50989\" style=\"display: none;\"><div style=\"display: table-cell;\"></div><div style=\"display: table-cell;\">toolbar_location&nbsp;=&nbsp;'right',</div></div><div class=\"p50989\" style=\"display: none;\"><div style=\"display: table-cell;\"></div><div style=\"display: table-cell;\">visible&nbsp;=&nbsp;True,</div></div><div class=\"p50989\" style=\"display: none;\"><div style=\"display: table-cell;\"></div><div style=\"display: table-cell;\">width&nbsp;=&nbsp;None,</div></div><div class=\"p50989\" style=\"display: none;\"><div style=\"display: table-cell;\"></div><div style=\"display: table-cell;\">width_policy&nbsp;=&nbsp;'auto')</div></div></div>\n",
       "<script>\n",
       "(function() {\n",
       "  let expanded = false;\n",
       "  const ellipsis = document.getElementById(\"p50990\");\n",
       "  ellipsis.addEventListener(\"click\", function() {\n",
       "    const rows = document.getElementsByClassName(\"p50989\");\n",
       "    for (let i = 0; i < rows.length; i++) {\n",
       "      const el = rows[i];\n",
       "      el.style.display = expanded ? \"none\" : \"table-row\";\n",
       "    }\n",
       "    ellipsis.innerHTML = expanded ? \"&hellip;)\" : \"&lsaquo;&lsaquo;&lsaquo;\";\n",
       "    expanded = !expanded;\n",
       "  });\n",
       "})();\n",
       "</script>\n"
      ],
      "text/plain": [
       "GridPlot(id='p50577', ...)"
      ]
     },
     "execution_count": 375,
     "metadata": {},
     "output_type": "execute_result"
    }
   ],
   "source": [
    "#Quita las primeras 210 velas, que son agregadas al descargar datos para preveer el armado de indicadores \n",
    "#y que la estrategia inicie con los indicadores previamente armados \n",
    "\n",
    "\n",
    "cash = 1000\n",
    "bot = Backtest(data, SmaCross, cash=cash, commission=.002, trade_on_close=False)\n",
    "stats = bot.run()\n",
    "\n",
    "print(f'Periodo: {stats.Start} al {stats.End}')\n",
    "print(f'Duracion: {stats.Duration}')\n",
    "print('Return (Ann.) [%]',stats['Return (Ann.) [%]'])\n",
    "print('Max. Drawdown [%]',stats['Max. Drawdown [%]'])\n",
    "print('# Trades',stats['# Trades'])\n",
    "trades = stats._trades.copy()\n",
    "\n",
    "\n",
    "bot.plot(open_browser=True, plot_trades=False, resample='1D')"
   ]
  },
  {
   "cell_type": "code",
   "execution_count": 376,
   "metadata": {},
   "outputs": [],
   "source": [
    "#Optimizacion\n",
    "\"\"\"\n",
    "parametros\n",
    "quote_perc = 0.75  #% de compra inicial, para stock\n",
    "re_buy_perc = 0.08 #% para recompra luego de una venta\n",
    "lot_to_safe = 0.04 #% a resguardar si supera start_cash\n",
    "\"\"\"\n",
    "\n",
    "def check_optimize(series):\n",
    "    result = series['Max. Drawdown [%]']+10*series['Return (Ann.) [%]']\n",
    "    return result\n",
    "\n",
    "optimizar = False\n",
    "if optimizar:\n",
    "    stats = bot.optimize(\n",
    "        #ma = [14,21,28],\n",
    "        #quote_perc = [30,60,90],\n",
    "        re_buy_perc = [2,4,6,8,10],\n",
    "        lot_to_safe = [2,4,6,8,10],\n",
    "        maximize = check_optimize,\n",
    "\n",
    "    )\n",
    "\n",
    "    print(stats._strategy)\n",
    "    print(f'Periodo: {stats.Start} al {stats.End}')\n",
    "    print(f'Duracion: {stats.Duration}')\n",
    "    print('Return (Ann.) [%]',stats['Return (Ann.) [%]'])\n",
    "    print('Max. Drawdown [%]',stats['Max. Drawdown [%]'])\n",
    "    print('# Trades',stats['# Trades'])\n",
    "\n"
   ]
  }
 ],
 "metadata": {
  "kernelspec": {
   "display_name": "Python 3",
   "language": "python",
   "name": "python3"
  },
  "language_info": {
   "codemirror_mode": {
    "name": "ipython",
    "version": 3
   },
   "file_extension": ".py",
   "mimetype": "text/x-python",
   "name": "python",
   "nbconvert_exporter": "python",
   "pygments_lexer": "ipython3",
   "version": "3.8.0"
  }
 },
 "nbformat": 4,
 "nbformat_minor": 2
}

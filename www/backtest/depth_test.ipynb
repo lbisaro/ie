{
 "cells": [
  {
   "cell_type": "code",
   "execution_count": 1,
   "metadata": {},
   "outputs": [],
   "source": [
    "import pandas as pd\n",
    "from binance.client import Client"
   ]
  },
  {
   "cell_type": "code",
   "execution_count": 145,
   "metadata": {},
   "outputs": [],
   "source": [
    "def get_depth(symbol):\n",
    "    client = Client()\n",
    "    depth = client.get_order_book(symbol=symbol,limit=5000)\n",
    "    bid = pd.DataFrame(depth['bids'], columns=['price','volume']).astype(float)\n",
    "    bid['volume'] = bid['volume']*bid['price']\n",
    "    ask = pd.DataFrame(depth['asks'], columns=['price','volume']).astype(float)\n",
    "    ask['volume'] = ask['volume']*ask['price']\n",
    "\n",
    "    #Precio promedio\n",
    "    avg_price = (bid.iloc[0]['price'] + ask.iloc[0]['price'] ) / 2\n",
    "    \n",
    "    #Filtra los precios hasta un +/-15% en referencia al avg_price\n",
    "    bid = bid[bid['price'] > avg_price*0.85] \n",
    "    ask = ask[ask['price'] < avg_price*1.15] \n",
    "\n",
    "    #agrega un indice del tipo fecha para hacer el resample\n",
    "    bid.index = pd.date_range(start='2023-01-01', periods=len(bid), freq='T')\n",
    "    ask.index = pd.date_range(start='2023-01-01', periods=len(ask), freq='T')\n",
    "\n",
    "    #Calculando la cantidad de periodos a resamplear\n",
    "    T = ask[ask['price']<(avg_price*1.005)]['price'].count()\n",
    "    T = 1000 if T > 1000 else T\n",
    "    period = f'{T}T'\n",
    "\n",
    "    #Resample, asignacion de indice por Price y agregar columna Perc (% en relacion al precio promedio)\n",
    "    grouped_bid = bid.resample(period).agg({'price': 'mean', 'volume': 'sum'})\n",
    "    grouped_bid['perc'] = round(((grouped_bid['price']/avg_price)-1)*100,1)\n",
    "    grouped_bid.set_index('price', inplace=True)\n",
    "    grouped_ask = ask.resample(period).agg({'price': 'mean', 'volume': 'sum'})\n",
    "    grouped_ask['perc'] = round(((grouped_ask['price']/avg_price)-1)*100,1)\n",
    "    grouped_ask.set_index('price', inplace=True)\n",
    "\n",
    "    #Unificando datoso de Bid y ask en Depth\n",
    "    depth = pd.DataFrame(columns=['volume', 'perc'])\n",
    "    depth = pd.concat([depth, grouped_bid])\n",
    "    depth = pd.concat([depth, grouped_ask])\n",
    "    \n",
    "    avg_volume = depth['volume'].sum()\n",
    "    depth['volume_perc'] = round((depth['volume']/avg_volume)*100,1)\n",
    "\n",
    "    depth = depth.sort_values(by='volume', ascending=False)\n",
    "    return depth\n"
   ]
  },
  {
   "cell_type": "code",
   "execution_count": 146,
   "metadata": {},
   "outputs": [
    {
     "name": "stdout",
     "output_type": "stream",
     "text": [
      "                 volume  perc  volume_perc\n",
      "0.000180  472752.582177  14.3          9.6\n",
      "0.000158  471764.011015   0.2          9.5\n",
      "0.000175  455986.548581  11.1          9.2\n",
      "                 volume  perc  volume_perc\n",
      "0.000157  571270.558584  -0.3         11.5\n",
      "0.000140  376439.142782 -11.3          7.6\n",
      "0.000150  210927.502881  -5.0          4.3\n"
     ]
    }
   ],
   "source": [
    "depth = get_depth('LUNCUSDT')\n",
    "print(depth[depth['perc']>0].head(3))\n",
    "print(depth[depth['perc']<0].head(3))\n"
   ]
  },
  {
   "cell_type": "code",
   "execution_count": null,
   "metadata": {},
   "outputs": [],
   "source": []
  },
  {
   "cell_type": "code",
   "execution_count": null,
   "metadata": {},
   "outputs": [],
   "source": []
  }
 ],
 "metadata": {
  "kernelspec": {
   "display_name": "Python 3",
   "language": "python",
   "name": "python3"
  },
  "language_info": {
   "codemirror_mode": {
    "name": "ipython",
    "version": 3
   },
   "file_extension": ".py",
   "mimetype": "text/x-python",
   "name": "python",
   "nbconvert_exporter": "python",
   "pygments_lexer": "ipython3",
   "version": "3.8.0"
  }
 },
 "nbformat": 4,
 "nbformat_minor": 2
}
